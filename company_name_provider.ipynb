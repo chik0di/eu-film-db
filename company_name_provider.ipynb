{
 "cells": [
  {
   "cell_type": "code",
   "execution_count": 1,
   "metadata": {},
   "outputs": [],
   "source": [
    "from faker.providers import BaseProvider\n",
    "\n",
    "class MovieCompanyNameProvider(BaseProvider):\n",
    "    def movie_company_name(self):\n",
    "        # Define a list of custom movie company names\n",
    "        names = [\"Always Strive and Prosper\", \"What's Going On\", \"Pet Sounds\", \"Blue\", \"Songs in the Key of Life\", \"Abbey Road\", \"Nevermind\", \"Rumours\", \"Purple Rain\", \"Blood on the Tracks\", \"The Miseducation of Lauryn Hill\", \"Revolver\", \"Thriller\", \"Exile on Main Street\", \"Sonder Son\", \"London Calling\",\n",
    "                 \"My Beautiful Dark Twisted Fantasy\", \"Highway 61 Revisited\", \"To Pimp a Butterfly\", \"Kid A\", \"Born to Run\", \"Ready to Die\", \"The Velvet Underground & Nico\", \"Sgt. Pepper's Lonely Hearts Club Band\", \"Tapestry\", \"Horses\", \"Enter the Wu-Tang\", \"Voodoo\", \"White Album\", \"Are You Experienced\", \"Kind of Blue\", \"Lemonade\", \"First Take\", \n",
    "                 \"Back to Black\", \"Innervisions\", \"Rubber Soul\", \"Off the Wall\", \"The Chronic\", \"Blonde on Blonde\", \"Remain in Light\", \"The Rise and Fall of Ziggy Stardust\", \"Let It Bleed\", \"OK Computer\", \"The Low End Theory\", \"Illmatic\", \"Sign o' the Times\", \"Graceland\", \"Ramones\", \"Legened\", \"400 Degreez\", \"Surrealistic Pillow\", \"CRTL\", \"Barrio Fino\", \"1 Record\",  \n",
    "                 \"Aquemini\", \"The Blueprint\", \"The Great Twenty-Eight\", \"Station to Station\", \"Electric Ladyland\", \"Star Time\", \"The Dark Side of the Moon\", \"Exile in Guyville\", \"The Band\", \"Led Zeppelin IV\", \"Talking Book\", \"Astral Weeks\", \"Paid in Full\", \"Appetite for Destruction\", \"Aja\", \"Stankonia\", \"Live at the Apollo\", \"A Love Supreme\", \"Reasonable Doubt\",  \n",
    "                 \"Exodus\", \"Harvest\", \"Loveless\", \"The College Dropout\", \"Lady Soul\", \"Superfly\", \"Who's Next\", \"The Sun Sessions\", \"Blonde\", \"Never Mind the Bollocks Here's the Sex Pistols\", \"Beyonce\", \"There's a Riot Goin' On\", \"Dusty in Memphis\", \"Back in Black\", \"Plastic Ono Band\", \"Wish You Were Here\", \"Wowee Zowee\", \"Help!\", \"Double Nickels on the Dime\", \"Sail Away\",\n",
    "                 \"The Doors\", \"Bitches Brew\", \"Hunky Dory\", \"Baduism\", \"After the Gold Rush\", \"Darkness on the Edge of Town\", \"Axis: Bold as Love\", \"Supa Dupa Fly\", \"Fun House\", \"Take Care\", \"Automatic for the People\", \"Master of Puppets\", \"Car Wheels on a Gravel Road\", \"Red\", \"Music from the Big Pink\", \"Led Zeppelin\", \"The Clash\", \"3 Feet High and Rising\",  \"Yeezus\",\n",
    "                 \"Sticky Fingers\", \"At the Fillmore East\", \"Live Through This\", \"Marquee Moon\", \"When the Pawn...\", \"Transformer\", \"Court and Spark\", \"Control\", \"Goodbye Yellow Brick Road\", \"The Queen Is Dead\", \"Is This It?\", \"Good Kid, M.A.A.D City\", \"Disintegration\", \"Late Registration\", \"Hotel California\", \"Stand!\", \"Moondance\", \"This Year's Model\", \n",
    "                 \"The Downward Spiral\", \"Led Zeppelin II\", \"Achtung Baby\", \"Paul's Botique\", \"My Life\", \"Modern Sounds in Country and Western Music\", \"A Night at the Opera\", \"The Wall\", \"1999\", \"Dummy\", \"Hejira\", \"The Score\", \"The Joshua Tree\", \"Maggott Brain\", \"Young Gifted and Black\", \"The Emancipation of Mimi\", \"Surfer Rosa\", \"Kaleidoscope\",  \"Anthology\",\n",
    "                 \"21\", \"The Immaculate Collection\", \"Paranoid\", \"Catch a Fire\", \"Doolittle\", \"Born in the USA\", \"The Velvet Underground\", \"Physical Graffiti\", \"The Marshall Mathers LP\", \"Parallel Lines\", \"Grace\", \"Channel Orange\", \"John Prine\", \"Nebraska\", \"Faith\", \"Pretenders\", \"Rid of Me\", \"Amazing Grace\", \"For Your Pleasure\", \"The Slim Shady LP\", \"The Cars\",\n",
    "                 \"The Black Album\", \"Let It Be\", \"What's the Story Morning Glory\", \"Mama's Gun\", \"Synchronicity\", \"Ten\", \"Crosby, Stills, and Nash\", \"Different Class\", \"Saturday Night Fever\", \"At Folsom Prison\", \"Murmur\", \"20 Golden Greats\", \"Violator\", \"Can't Buy a Thrill\", \"The Stranger\", \"Disraeli Gears\", \"Daydream Nation\", \"Hounds of Love\", \n",
    "                 \"Bridge Over Troubled Water\", \"In Utero\", \"The Harder They Come\", \"Damn.\", \"Fear of a Black Planet\", \"Every Picture Tells a Story\", \"Otis Blue\", \"Life After Death\", \"Forever Changes\", \"Bringing It All Back Home\", \"Sweet Baby James\", \"Mr. Tambourine Man\", \"The Modern Lovers\", \"Post\", \"Speakerboxxx/The Love Below\", \"Jagged Little Pill\",\n",
    "                 \"Brown Sugar\", \"She's So Unusual\", \"Beggars Banquet\", \"Blood Sugar Sex Magik\", \"Amerikkka's Most Wanted\", \"Electric Warrior\", \"Sleater-Kinney\", \"Tommy\", \"At Last\", \"Liscensed to Ill\", \"Willy and the Poor Boys\", \"Bad\", \"Songs of Leonard Cohen\", \"Body Talk\", \"The Beatles\", \"The B-52's\", \"Slanted and Enchanted\", \"Diamond Life\", \"Midnight Marauders\", \"Homogenic\", \n",
    "                 \"Pink Moon\", \"Graduation\", \"Tea for the Tillerman\", \"Low\", \"Eagles\", \"Tha Carter III\", \"Raising Hell\", \"The Birth of Soul\", \"Unknown Pleasures\", \"Wild Is the Wind\", \"The Idler Wheel\", \"Wildflower\", \"American Beauty\", \"Either/Or\", \"Definitely Maybe\", \"Waterfalls\", \"Only Built 4 Cuban Linx\", \"Deja Vu\", \"Van Halen\", \"Last Splash\", \"Weezer, The Blue Album\", \n",
    "                 \"Rage Against the Machine\", \"Ray of Light\", \"Imagine\", \"Fly\", \"Yankee Foxtrot Hotel\", \"Layla and Other Assorted Love Songs\", \"Here's Little Richard\", \"De La Soul Is Dead\", \"The Ultimate Collection\", \"Anti\", \"Nick of Time\", \"Here My Dear\", \"Presenting the Fabulous Ronettes\", \"II\", \"Donde Estan los Ladrones\", \"The Indestructable Beat of Soweto\", \"Suicide\", \n",
    "                 \"Damn the Torpedoes\", \"Giant Steps\", \"Little Earthquake\", \"Master of Reality\", \"Metallica\", \"Discovery\", \"Red Handed Stranger\", \"Trans Europe Express\", \"Criminal Minded\", \"Live at the Harlem Square Club, 1963\", \"Blue Lines\", \"Loaded\", \"Odyssey and Oracle\", \"808s and Heartbreak\", \"Heaven or Las Vegas\", \"Power, Corruption & Lies\", \"Kimono My House\",\n",
    "                 \"Mama Said Knock You Out\", \"Love Deluxe\", \"American Idiot\", \"Whitney Houston\", \"Singles Going Steady\", \"Honky Chateau\", \"Psychodrama\", \"The Piper at the Gates of Dawn\", \"Head Hunters\", \"The Freewheelin' Bob Dylan\", \"Tracy Chapman\", \"Coat of Many Colors\", \"The Hissing of Summer Lawns\", \"Pearl\", \"Cut\", \"Check Your Head\", \"Some Girls\", \"Clandestino\",\n",
    "                 \"Golden Hour\", \"What's the 411?\", \"White Light/White Heat\", \"Entertainment!\", \"Sweetheart of the Rodeo\", \"Curtis\", \"The Bends\", \"The Diary\", \"Houses of the Holy\", \"Get Rich or Die Tryin'\", \"Nilsson Schmilsson\", \"In the Wee Small Hours of the Morning\", \"Bad Girls\", \"Down Every Road\", \"Third/Sister Lovers\", \"Californication\", \"Ask Rufus\", \n",
    "                 \"Random Access Memories\", \"Rust Never Sleeps\", \"So\", \"Full Moon Fever\", \"Live at the Regal\", \"Come on Over\", \"New York Dolls\", \"Tonight's the Night\", \"The Definitive Collection\", \"Just as I Am\", \"Alive!\", \"Sam Cooke\", \"Here Come the Warm Jets\", \"Closer\", \"Pink Flag\", \"On the Beach\", \"Endtroducing\", \"Aftermath\", \"Funeral\",\n",
    "                 \"A Seat at the Table\", \"Stories from the City, Stories from the Sea\", \"One in a Million\", \"El Mal Querer\", \"The Who Sell Out\", \"Lady in Satin\", \"The Velvet Rope\", \"The Stone Roses\", \"Los Angeles\", \"Norman Fucking Rockwell\", \"From Elvis in Memphis\", \"Sandinista\", \"A Rush of Blood to the Head\", \"All Killer No Filler\", \"Dirty Mind\", \"Live at Leeds\", \n",
    "                 \"Like a Prayer\", \"Elvis Presley\", \"Still Bill\", \"Abraxas\", \"The Basement Tapes\", \"Avalon\", \"John Wesley Harding\", \"Another Green World\", \"Rhytm Nation 1814\", \"Doggystyle\", \"Siamese Dream\", \"Let It Be\", \"Funky Kingston\", \"The Wild, the Innocent & the E Street Shuffle\", \"AM\", \"Liquid Swords\", \"Time The Revelator\", \"Kick Out the Jams\",  \n",
    "                 \"Black Sabbath\", \"Gris-Gris\", \"Rain Dogs\", \"Goo\", \"Radio City\", \"One Nation Under a Groove\", \"The Black Parade\", \"Never Too Much\", \"The Mothership Connection\", \"More Songs About Buildings and Food\", \"Madvillainy\", \"Rocks\", \"If You're Reading This It's Too Late\", \"All Things Must Pass\", \"The Infamous\", \"Tha Carter II\", \"Proud Mary\",\n",
    "                 \"Anthology\", \"Cheap Thrills\", \"Hot Buttered Soul\", \"King of the Delta Blues Singers\", \"Dookie\", \"In the Aeroplane Over the Sea\", \"Fever to Tell\", \"Run-D.M.C\", \"Moving Pictures\", \"Mingus Ah Um\", \"Oxymoron\", \"Currents\", \"Mezzanine\", \"The Kinks Are the Village Green Preservation Society\", \"Rocket to Russia\", \"Donuts\", \"In Rainbows\", \"The Writing's on the Wall\", \n",
    "                 \"Black Messiah\", \"Something/Anything?\", \"When We All Fall Asleep, Where Do We Go?\", \"The Raincoats\", \"Smile\", \"Beauty and the Beat\", \"Blondie\", \"Expensive Shit\", \"Supreme Clientele\", \"Rapture\", \"The Slow Rush\", \"69 Love Songs\", \"Everybody Knows This Is Nowhere\", \"New Day Rising\", \"Reach Out\", \"My Aim Is True\", \"Music of My Mind\", \"Call Me\", \n",
    "                 \"Ace of Spades\", \"Workingman's Dead\", \"Wild Honey\", \"Love and Theft\", \"Going to a Go Go\", \"Cosmo's Factory\", \"Risque\", \"Look-Ka Py Py\", \"Things Fall Apart\", \"The Shape of Jazz to Come\", \"Brothers in Arms\", \"Chief\", \"That's the Way of the World\", \"Arular\", \"Let's Get It On\", \"I Can Hear the Heart Beating as One\", \"Odelay\", \"Paul Simon\", \"Lucinda Williams\",   \n",
    "                 \"How Will the Wolf Survive\", \"Confessions\", \"Sound of Silver\", \"Crooked Rain, Crooked Rain\", \"Actually\", \"All Eyez on Me\", \"Screamadelica\", \"Parklife\", \"Sex Machine\", \"Coal Miner's Daughter\", \"Blackout\", \"Beauty Behind the Madness\", \"Scary Monsters\", \"Extraordinary Machine\", \"Close to the Edge\", \"Journey in Satchidanada\", \"X 100pre\", \"Dictionary of Soul\",  \n",
    "                 \"Pretty Hate Machine\", \"Ege Bamyasi\", \"Bo Diddley/Go Bo Diddley\", \"I Do Not Want What I Haven't Got\", \"Southeastern\", \"Man on the Moon: The End of the Day\", \"Melodrama\", \"For Emma\", \"The Gilded Palace of Sin\", \"Eli and the 13th Confession\", \"The Best of the Classic Years\", \"The Beach Boys Today\", \"Blacksummer'snight\", \"CTRL ALT DELETE\", \n",
    "                 \"Moanin' in the Moonlight\", \"Something Else by The Kinks\", \"Amor Prohibido\", \"The Weight of These Wings\", \"If You're Feeling Sinister\", \"Bizarre Ride II the Pharcyde\", \"The Anthology\", \"Born This Way\", \"I Want to See the Bright Lights Tonight\", \"Continuum\", \"Damaged\", \"The Stooges\", \"Back to Mono\", \"Heart Like a Wheel\", \"Fine Line\",  \"Straight Outta Compton\",\n",
    "                 \"Liquid Swords\", \"New House\", \"Morning Dew\", \"Things Fall Apart\", \"Raw Dinner\", \"Sleepy Soldier\", \"Whole Lotta Red\", \"The Message\", \"Astroworld\", \"Madvillainy\", \"Call Me When You Get Lost\", \"Wolf\", \"Elephant\", \"Ram\", \"Germfree Adolescents\", \"1989\", \"Diana\", \"Sheryl Crowe\", \"Hard Day's Night\", \"Modern Vampires of the City\", \"Hollow Be Thy Squad\",\n",
    "                 \"Central Core Never More\", \"Back to Bedlam\", \"Clams Casino\", \"Bat Out of Hell\", \"1\", \"Bad Trip\", \"Paris Texas\", \"Clouds as Witnesses\", \"Crazy Love\", \"No Angel\", \"White Ladder\", \"Lemon Glow\", \"Scissor Sisters\", \"Star Shopping\", \"7th Generation Blunts\", \"Rapid Fire\", \"Ultra Violet\", \"Bullet From a Gun\", \"Glow in the Dark\", \"X\", \"Cabin in the Woods\"]\n",
    "        \n",
    "        \n",
    "        # Return a random name from the list\n",
    "        return self.random_element(names)\n"
   ]
  },
  {
   "cell_type": "code",
   "execution_count": 6,
   "metadata": {},
   "outputs": [
    {
     "name": "stdout",
     "output_type": "stream",
     "text": [
      "When We All Fall Asleep, Where Do We Go?\n"
     ]
    }
   ],
   "source": [
    "from faker import Faker\n",
    "\n",
    "# Create a Faker instance\n",
    "fake = Faker()\n",
    "\n",
    "# Add your custom provider\n",
    "fake.add_provider(MovieCompanyNameProvider)\n",
    "\n",
    "# Now you can use your custom method\n",
    "print(fake.movie_company_name())"
   ]
  }
 ],
 "metadata": {
  "kernelspec": {
   "display_name": "Python 3",
   "language": "python",
   "name": "python3"
  },
  "language_info": {
   "codemirror_mode": {
    "name": "ipython",
    "version": 3
   },
   "file_extension": ".py",
   "mimetype": "text/x-python",
   "name": "python",
   "nbconvert_exporter": "python",
   "pygments_lexer": "ipython3",
   "version": "3.11.3"
  }
 },
 "nbformat": 4,
 "nbformat_minor": 2
}
