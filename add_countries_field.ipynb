{
 "cells": [
  {
   "cell_type": "code",
   "execution_count": 5,
   "metadata": {},
   "outputs": [],
   "source": [
    "import pandas as pd\n",
    "from geopy.geocoders import Nominatim\n",
    "\n",
    "# Read the CSV file with cities\n",
    "df = pd.read_csv('cities.csv')\n",
    "\n",
    "# Initialize a geocoder (using Nominatim as an example)\n",
    "geolocator = Nominatim(user_agent=\"my_geocoder\")\n",
    "\n",
    "# Define a function to get the country for a given city\n",
    "def get_country(city):\n",
    "    location = geolocator.geocode(city, language=\"en\")\n",
    "    if location is not None:\n",
    "        return location.address.split(',')[-1].strip()\n",
    "    else:\n",
    "        return None\n",
    "\n",
    "# Apply the function to create a new 'Country' column\n",
    "df['country'] = df['name'].apply(get_country)\n",
    "\n",
    "# Save the updated DataFrame to a new CSV file\n",
    "df.to_csv('cities_with_countries.csv', index=False)\n"
   ]
  }
 ],
 "metadata": {
  "kernelspec": {
   "display_name": "Python 3",
   "language": "python",
   "name": "python3"
  },
  "language_info": {
   "codemirror_mode": {
    "name": "ipython",
    "version": 3
   },
   "file_extension": ".py",
   "mimetype": "text/x-python",
   "name": "python",
   "nbconvert_exporter": "python",
   "pygments_lexer": "ipython3",
   "version": "3.11.3"
  }
 },
 "nbformat": 4,
 "nbformat_minor": 2
}
